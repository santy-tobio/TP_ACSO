{
 "cells": [
  {
   "cell_type": "code",
   "execution_count": 15,
   "metadata": {},
   "outputs": [
    {
     "name": "stdout",
     "output_type": "stream",
     "text": [
      "0x54\n"
     ]
    }
   ],
   "source": [
    "def get_hex(start, end):\n",
    "    num = 0\n",
    "    for i in range(start, end+1):\n",
    "        num |= 1 << i\n",
    "    print(hex(num & 0xFFFFFFFF).upper().replace('0X', '0x'))\n",
    "\n",
    "\n",
    "def bin_to_hex(binary_str):\n",
    "    binary_str = binary_str.replace(' ', '')\n",
    "    print(hex(int(binary_str, 2)).upper().replace('0X', '0x'))\n",
    "\n",
    "bin_to_hex('01010100')\n",
    "\n"
   ]
  },
  {
   "cell_type": "code",
   "execution_count": 16,
   "metadata": {},
   "outputs": [
    {
     "name": "stdout",
     "output_type": "stream",
     "text": [
      "0x5\n"
     ]
    }
   ],
   "source": [
    "bin_to_hex('000101')"
   ]
  }
 ],
 "metadata": {
  "kernelspec": {
   "display_name": "Python 3",
   "language": "python",
   "name": "python3"
  },
  "language_info": {
   "codemirror_mode": {
    "name": "ipython",
    "version": 3
   },
   "file_extension": ".py",
   "mimetype": "text/x-python",
   "name": "python",
   "nbconvert_exporter": "python",
   "pygments_lexer": "ipython3",
   "version": "3.8.10"
  }
 },
 "nbformat": 4,
 "nbformat_minor": 2
}
