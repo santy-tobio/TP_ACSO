{
 "cells": [
  {
   "cell_type": "code",
   "execution_count": 2,
   "metadata": {},
   "outputs": [
    {
     "name": "stdout",
     "output_type": "stream",
     "text": [
      "0x54\n"
     ]
    }
   ],
   "source": [
    "def get_hex(start, end):\n",
    "    num = 0\n",
    "    for i in range(start, end+1):\n",
    "        num |= 1 << i\n",
    "    print(hex(num & 0xFFFFFFFF).upper().replace('0X', '0x'))\n",
    "\n",
    "\n",
    "def bin_to_hex(binary_str):\n",
    "    binary_str = binary_str.replace(' ', '')\n",
    "    print(hex(int(binary_str, 2)).upper().replace('0X', '0x'))\n",
    "\n",
    "bin_to_hex('01010100')\n",
    "\n"
   ]
  },
  {
   "cell_type": "code",
   "execution_count": 1,
   "metadata": {},
   "outputs": [
    {
     "ename": "NameError",
     "evalue": "name 'bin_to_hex' is not defined",
     "output_type": "error",
     "traceback": [
      "\u001b[0;31m---------------------------------------------------------------------------\u001b[0m",
      "\u001b[0;31mNameError\u001b[0m                                 Traceback (most recent call last)",
      "Cell \u001b[0;32mIn[1], line 1\u001b[0m\n\u001b[0;32m----> 1\u001b[0m bin_to_hex(\u001b[38;5;124m'\u001b[39m\u001b[38;5;124m1011 11\u001b[39m\u001b[38;5;124m'\u001b[39m)\n",
      "\u001b[0;31mNameError\u001b[0m: name 'bin_to_hex' is not defined"
     ]
    }
   ],
   "source": [
    "bin_to_hex('1011 11')"
   ]
  },
  {
   "cell_type": "code",
   "execution_count": 3,
   "metadata": {},
   "outputs": [
    {
     "name": "stdout",
     "output_type": "stream",
     "text": [
      "0x2F\n"
     ]
    }
   ],
   "source": [
    "bin_to_hex('1011 11')"
   ]
  }
 ],
 "metadata": {
  "kernelspec": {
   "display_name": "base",
   "language": "python",
   "name": "python3"
  },
  "language_info": {
   "codemirror_mode": {
    "name": "ipython",
    "version": 3
   },
   "file_extension": ".py",
   "mimetype": "text/x-python",
   "name": "python",
   "nbconvert_exporter": "python",
   "pygments_lexer": "ipython3",
   "version": "3.12.4"
  }
 },
 "nbformat": 4,
 "nbformat_minor": 2
}
