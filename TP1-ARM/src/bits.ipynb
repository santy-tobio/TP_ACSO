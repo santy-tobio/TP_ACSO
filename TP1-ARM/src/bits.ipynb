{
 "cells": [
  {
   "cell_type": "code",
   "execution_count": 8,
   "metadata": {},
   "outputs": [
    {
     "name": "stdout",
     "output_type": "stream",
     "text": [
      "0x3E0\n"
     ]
    }
   ],
   "source": [
    "def get_hex(start, end):\n",
    "    num = 0\n",
    "    for i in range(start, end+1):\n",
    "        num |= 1 << i\n",
    "    return hex(num & 0xFFFFFFFF).upper().replace('0X', '0x')\n",
    "\n",
    "print(get_hex(5,9))"
   ]
  }
 ],
 "metadata": {
  "kernelspec": {
   "display_name": "base",
   "language": "python",
   "name": "python3"
  },
  "language_info": {
   "codemirror_mode": {
    "name": "ipython",
    "version": 3
   },
   "file_extension": ".py",
   "mimetype": "text/x-python",
   "name": "python",
   "nbconvert_exporter": "python",
   "pygments_lexer": "ipython3",
   "version": "3.12.4"
  }
 },
 "nbformat": 4,
 "nbformat_minor": 2
}
