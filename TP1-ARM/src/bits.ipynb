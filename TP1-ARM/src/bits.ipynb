{
 "cells": [
  {
   "cell_type": "code",
   "execution_count": 8,
   "metadata": {},
   "outputs": [
    {
     "name": "stdout",
     "output_type": "stream",
     "text": [
      "0x54\n"
     ]
    }
   ],
   "source": [
    "def get_hex(start, end):\n",
    "    num = 0\n",
    "    for i in range(start, end+1):\n",
    "        num |= 1 << i\n",
    "    return hex(num & 0xFFFFFFFF).upper().replace('0X', '0x')\n",
    "\n",
    "\n",
    "def bin_to_hex(binary_str):\n",
    "    binary_str = binary_str.replace(' ', '')\n",
    "    return hex(int(binary_str, 2)).upper().replace('0X', '0x')\n",
    "\n",
    "print(bin_to_hex('01010100'))  # Example usage\n",
    "\n"
   ]
  },
  {
   "cell_type": "code",
   "execution_count": 13,
   "metadata": {},
   "outputs": [
    {
     "name": "stdout",
     "output_type": "stream",
     "text": [
      "0x34D\n"
     ]
    }
   ],
   "source": [
    "print(bin_to_hex('1101001101'))"
   ]
  }
 ],
 "metadata": {
  "kernelspec": {
   "display_name": "base",
   "language": "python",
   "name": "python3"
  },
  "language_info": {
   "codemirror_mode": {
    "name": "ipython",
    "version": 3
   },
   "file_extension": ".py",
   "mimetype": "text/x-python",
   "name": "python",
   "nbconvert_exporter": "python",
   "pygments_lexer": "ipython3",
   "version": "3.12.4"
  }
 },
 "nbformat": 4,
 "nbformat_minor": 2
}
